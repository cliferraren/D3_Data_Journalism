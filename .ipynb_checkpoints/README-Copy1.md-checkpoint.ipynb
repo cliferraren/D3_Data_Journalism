{
 "cells": [
  {
   "cell_type": "markdown",
   "metadata": {},
   "source": [
    "## Data Journalism and D3"
   ]
  },
  {
   "cell_type": "markdown",
   "metadata": {},
   "source": [
    "<a target='_blank' href=\"https://giphy.com/gifs/newspaper-press-v2xIous7mnEYg\"><img alt='Newspaper Printing (via GIPHY)' src=\"http://i.giphy.com/v2xIous7mnEYg.gif\" /> <br><em>via GIPHY</em></a>"
   ]
  },
  {
   "cell_type": "markdown",
   "metadata": {},
   "source": [
    "#### In this one, we explore for the correlation between a demographic information like Poverty from the U.S. Census Bureau's American Community Survey and Behavioral Risk factor like Exercise Activity using the data from [American FactFinder](http://factfinder.census.gov/faces/nav/jsf/pages/searchresults.xhtml).\n"
   ]
  },
  {
   "cell_type": "markdown",
   "metadata": {},
   "source": [
    "#### Data manipulation and cleaning are done using Python3 on a Jupyter Notebook. Cleaned data are then save as CSV files for documentation purposes."
   ]
  },
  {
   "cell_type": "markdown",
   "metadata": {},
   "source": [
    "#### Finally, interactive data visualization are done using D3.js."
   ]
  },
  {
   "cell_type": "code",
   "execution_count": null,
   "metadata": {},
   "outputs": [],
   "source": []
  }
 ],
 "metadata": {
  "kernelspec": {
   "display_name": "Python 3",
   "language": "python",
   "name": "python3"
  },
  "language_info": {
   "codemirror_mode": {
    "name": "ipython",
    "version": 3
   },
   "file_extension": ".py",
   "mimetype": "text/x-python",
   "name": "python",
   "nbconvert_exporter": "python",
   "pygments_lexer": "ipython3",
   "version": "3.6.4"
  }
 },
 "nbformat": 4,
 "nbformat_minor": 2
}
